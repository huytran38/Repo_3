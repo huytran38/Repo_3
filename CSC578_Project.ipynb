{
 "cells": [
  {
   "cell_type": "markdown",
   "metadata": {},
   "source": [
    "##### CSC578 - 901\n",
    "##### Final Project\n",
    "##### Huy Tran"
   ]
  },
  {
   "cell_type": "code",
   "execution_count": 1,
   "metadata": {},
   "outputs": [
    {
     "name": "stdout",
     "output_type": "stream",
     "text": [
      "Requirement already satisfied: keras in c:\\users\\ht389\\appdata\\local\\continuum\\anaconda3\\lib\\site-packages (2.2.4)\n",
      "Requirement already satisfied: keras-preprocessing>=1.0.5 in c:\\users\\ht389\\appdata\\local\\continuum\\anaconda3\\lib\\site-packages (from keras) (1.0.9)\n",
      "Requirement already satisfied: h5py in c:\\users\\ht389\\appdata\\local\\continuum\\anaconda3\\lib\\site-packages (from keras) (2.9.0)\n",
      "Requirement already satisfied: pyyaml in c:\\users\\ht389\\appdata\\local\\continuum\\anaconda3\\lib\\site-packages (from keras) (5.1)\n",
      "Requirement already satisfied: keras-applications>=1.0.6 in c:\\users\\ht389\\appdata\\local\\continuum\\anaconda3\\lib\\site-packages (from keras) (1.0.7)\n",
      "Requirement already satisfied: scipy>=0.14 in c:\\users\\ht389\\appdata\\local\\continuum\\anaconda3\\lib\\site-packages (from keras) (1.2.1)\n",
      "Requirement already satisfied: numpy>=1.9.1 in c:\\users\\ht389\\appdata\\local\\continuum\\anaconda3\\lib\\site-packages (from keras) (1.16.2)\n",
      "Requirement already satisfied: six>=1.9.0 in c:\\users\\ht389\\appdata\\local\\continuum\\anaconda3\\lib\\site-packages (from keras) (1.12.0)\n"
     ]
    }
   ],
   "source": [
    "!pip install keras"
   ]
  },
  {
   "cell_type": "markdown",
   "metadata": {},
   "source": [
    "### Table of contents:\n",
    "##### Competition and data overview\n",
    "##### Imports ( data and packages )\n",
    "##### Basic exploration/EDA"
   ]
  },
  {
   "cell_type": "markdown",
   "metadata": {},
   "source": [
    "### Competition and data overview: \n",
    "This competition is created for NNDL course Spring 2019. The problem is a multivariate forecasting problem. Given a historical data of climate conditions, we need to predict the temperature of the next hour based on the climate conditions and temperature over the last 24 hours."
   ]
  },
  {
   "cell_type": "markdown",
   "metadata": {},
   "source": [
    "Data\n",
    "1. The training data file contains climate measurements from \"01.01.2009 01:00:00\"  (Jan 1, 2009 1:00 am) to \"31.12.2014 23:00:00\"  (Dec 31, 2014 11:00 pm). There are 52566 data rows plus one header row at the top, and 15 columns where the first column is \"Date time\" and the remaining 14 columns are climate measurements (of the date-time).\n",
    "\n",
    "2. The test data file contains climate measurements, to predict, from \"02.01.2015 00:00:00\"  (Jan 2, 2015 0:00 am) to \"01.01.2017 00:00:00\" (Jan 1, 2017 0:00 am). The data is preprocessed to be Keras RNN/-ready, and has 17447 data rows with NO HEADER ROW, and 336 columns where 14 climate measurements over 24 hours are concatenated. There is no date-time column, nor header row, in this file."
   ]
  },
  {
   "cell_type": "markdown",
   "metadata": {},
   "source": [
    "### Imports"
   ]
  },
  {
   "cell_type": "code",
   "execution_count": 2,
   "metadata": {},
   "outputs": [
    {
     "name": "stderr",
     "output_type": "stream",
     "text": [
      "Using TensorFlow backend.\n"
     ]
    }
   ],
   "source": [
    "from math import sqrt\n",
    "import numpy as np\n",
    "from numpy import concatenate\n",
    "from pandas import to_datetime\n",
    "from pandas import read_csv\n",
    "from pandas import DataFrame\n",
    "from pandas import concat\n",
    "from matplotlib import pyplot\n",
    "import seaborn as sns\n",
    "from sklearn import preprocessing\n",
    "from sklearn.preprocessing import MinMaxScaler\n",
    "from sklearn.preprocessing import StandardScaler\n",
    "from sklearn.preprocessing import LabelEncoder\n",
    "from sklearn.metrics import mean_squared_error\n",
    "from keras.models import Sequential\n",
    "from keras.layers import Dense, Dropout, Flatten\n",
    "from keras.layers import Conv2D, MaxPooling2D\n",
    "from keras.layers import Embedding\n",
    "from keras.layers import LSTM, GRU"
   ]
  },
  {
   "cell_type": "code",
   "execution_count": 3,
   "metadata": {},
   "outputs": [
    {
     "name": "stdout",
     "output_type": "stream",
     "text": [
      "                          p     T    Tpot   Tdew    rh  VPmax  VPact  VPdef  \\\n",
      "date                                                                          \n",
      "01.01.2009 01:00:00  996.50 -8.05  265.38  -8.78  94.4   3.33   3.14   0.19   \n",
      "01.01.2009 02:00:00  996.62 -8.88  264.54  -9.77  93.2   3.12   2.90   0.21   \n",
      "01.01.2009 03:00:00  996.84 -8.81  264.59  -9.66  93.5   3.13   2.93   0.20   \n",
      "01.01.2009 04:00:00  996.99 -9.05  264.34 -10.02  92.6   3.07   2.85   0.23   \n",
      "01.01.2009 05:00:00  997.46 -9.63  263.72 -10.65  92.2   2.94   2.71   0.23   \n",
      "\n",
      "                       sh  H2OC      rho    wv  maxwv     wd  \n",
      "date                                                          \n",
      "01.01.2009 01:00:00  1.96  3.15  1307.86  0.21   0.63  192.7  \n",
      "01.01.2009 02:00:00  1.81  2.91  1312.25  0.25   0.63  190.3  \n",
      "01.01.2009 03:00:00  1.83  2.94  1312.18  0.18   0.63  167.2  \n",
      "01.01.2009 04:00:00  1.78  2.85  1313.61  0.10   0.38  240.0  \n",
      "01.01.2009 05:00:00  1.69  2.71  1317.19  0.40   0.88  157.0  \n"
     ]
    }
   ],
   "source": [
    "# load train data\n",
    "data_train = read_csv('climate_hour_train.csv', index_col=0)\n",
    "\n",
    "# manually specify column names\n",
    "data_train.index.name = 'date'\n",
    "data_train.columns = ['p','T','Tpot','Tdew','rh','VPmax','VPact','VPdef','sh','H2OC','rho','wv','maxwv','wd']\n",
    "\n",
    "# summarize first 5 rows\n",
    "print(data_train.head(5))\n",
    "\n",
    "# save to file\n",
    "data_train.to_csv('climate_train.csv')"
   ]
  },
  {
   "cell_type": "code",
   "execution_count": 4,
   "metadata": {},
   "outputs": [
    {
     "name": "stdout",
     "output_type": "stream",
     "text": [
      "       0     1       2     3     4     5     6     7     8     9    ...   326  \\\n",
      "0  1007.19  2.06  274.65  1.89  98.8  7.09  7.00  0.09  4.34  6.95  ...  92.0   \n",
      "1  1007.06  2.22  274.82  2.06  98.9  7.17  7.09  0.08  4.39  7.04  ...  89.8   \n",
      "2  1007.43  2.04  274.61  1.87  98.8  7.08  6.99  0.08  4.33  6.94  ...  89.8   \n",
      "3  1007.87  1.79  274.34  1.63  98.8  6.95  6.87  0.08  4.25  6.82  ...  88.9   \n",
      "4  1007.79  2.12  274.66  1.99  99.1  7.12  7.05  0.06  4.36  7.00  ...  81.6   \n",
      "\n",
      "    327   328   329   330   331      332   333   334    335  \n",
      "0  6.83  6.29  0.55  3.91  6.27  1268.31  3.10  4.61  157.8  \n",
      "1  6.94  6.23  0.71  3.88  6.22  1266.15  2.74  4.37  157.9  \n",
      "2  6.91  6.20  0.70  3.86  6.20  1265.64  1.05  2.68  135.9  \n",
      "3  6.98  6.20  0.77  3.87  6.20  1264.11  1.67  2.96   97.5  \n",
      "4  7.27  5.93  1.34  3.70  5.94  1259.97  2.36  4.45  161.3  \n",
      "\n",
      "[5 rows x 336 columns]\n"
     ]
    }
   ],
   "source": [
    "# load test data\n",
    "data_test = read_csv('climate_Xtest.csv', header=None, index_col=False)\n",
    "\n",
    "# summarize first 5 rows\n",
    "print(data_test.head(5))"
   ]
  },
  {
   "cell_type": "markdown",
   "metadata": {},
   "source": [
    "### Basic exploration/EDA"
   ]
  },
  {
   "cell_type": "code",
   "execution_count": 5,
   "metadata": {},
   "outputs": [],
   "source": [
    "# Use seaborn style defaults and set the default figure size\n",
    "sns.set(rc={'figure.figsize':(11, 4)})"
   ]
  },
  {
   "cell_type": "code",
   "execution_count": 6,
   "metadata": {},
   "outputs": [
    {
     "data": {
      "image/png": "[encoded data removed]",
      "text/plain": [
       "<Figure size 792x288 with 14 Axes>"
      ]
     },
     "metadata": {},
     "output_type": "display_data"
    }
   ],
   "source": [
    "# load train dataset\n",
    "data_train = read_csv('climate_train.csv', header=0, index_col=0)\n",
    "values = data_train.values\n",
    "\n",
    "# specify columns to plot\n",
    "fts = [0, 1, 2, 3, 4, 5, 6, 7, 8, 9, 10, 11, 12, 13]\n",
    "i = 1\n",
    "# plot each column\n",
    "pyplot.figure()\n",
    "for ft in fts:\n",
    "    pyplot.subplot(len(fts), 1, i)\n",
    "    pyplot.plot(values[:, ft])\n",
    "    pyplot.title(data_train.columns[ft], y=0.5, loc='right')\n",
    "    i += 1\n",
    "    pyplot.tick_params(axis='both', which='major', labelsize=8)\n",
    "    pyplot.suptitle('Multi-variables line chart')\n",
    "#pyplot.savefig(\"Graph1.pdf\", bbox_inches='tight')\n",
    "pyplot.show()"
   ]
  },
  {
   "cell_type": "markdown",
   "metadata": {},
   "source": [
    "### Additional exploratory graphs/visuals"
   ]
  },
  {
   "cell_type": "code",
   "execution_count": 7,
   "metadata": {},
   "outputs": [
    {
     "data": {
      "text/html": [
       "<div>\n",
       "<style scoped>\n",
       "    .dataframe tbody tr th:only-of-type {\n",
       "        vertical-align: middle;\n",
       "    }\n",
       "\n",
       "    .dataframe tbody tr th {\n",
       "        vertical-align: top;\n",
       "    }\n",
       "\n",
       "    .dataframe thead th {\n",
       "        text-align: right;\n",
       "    }\n",
       "</style>\n",
       "<table border=\"1\" class=\"dataframe\">\n",
       "  <thead>\n",
       "    <tr style=\"text-align: right;\">\n",
       "      <th></th>\n",
       "      <th>p</th>\n",
       "      <th>T</th>\n",
       "      <th>Tpot</th>\n",
       "      <th>Tdew</th>\n",
       "      <th>rh</th>\n",
       "      <th>VPmax</th>\n",
       "      <th>VPact</th>\n",
       "      <th>VPdef</th>\n",
       "      <th>sh</th>\n",
       "      <th>H2OC</th>\n",
       "      <th>rho</th>\n",
       "      <th>wv</th>\n",
       "      <th>maxwv</th>\n",
       "      <th>wd</th>\n",
       "    </tr>\n",
       "    <tr>\n",
       "      <th>Date Time</th>\n",
       "      <th></th>\n",
       "      <th></th>\n",
       "      <th></th>\n",
       "      <th></th>\n",
       "      <th></th>\n",
       "      <th></th>\n",
       "      <th></th>\n",
       "      <th></th>\n",
       "      <th></th>\n",
       "      <th></th>\n",
       "      <th></th>\n",
       "      <th></th>\n",
       "      <th></th>\n",
       "      <th></th>\n",
       "    </tr>\n",
       "  </thead>\n",
       "  <tbody>\n",
       "    <tr>\n",
       "      <th>2009-01-01 01:00:00</th>\n",
       "      <td>996.5</td>\n",
       "      <td>-8.05</td>\n",
       "      <td>265.38</td>\n",
       "      <td>-8.78</td>\n",
       "      <td>94.4</td>\n",
       "      <td>3.33</td>\n",
       "      <td>3.14</td>\n",
       "      <td>0.19</td>\n",
       "      <td>1.96</td>\n",
       "      <td>3.15</td>\n",
       "      <td>1307.86</td>\n",
       "      <td>0.21</td>\n",
       "      <td>0.63</td>\n",
       "      <td>192.7</td>\n",
       "    </tr>\n",
       "  </tbody>\n",
       "</table>\n",
       "</div>"
      ],
      "text/plain": [
       "                         p     T    Tpot  Tdew    rh  VPmax  VPact  VPdef  \\\n",
       "Date Time                                                                   \n",
       "2009-01-01 01:00:00  996.5 -8.05  265.38 -8.78  94.4   3.33   3.14   0.19   \n",
       "\n",
       "                       sh  H2OC      rho    wv  maxwv     wd  \n",
       "Date Time                                                     \n",
       "2009-01-01 01:00:00  1.96  3.15  1307.86  0.21   0.63  192.7  "
      ]
     },
     "execution_count": 7,
     "metadata": {},
     "output_type": "execute_result"
    }
   ],
   "source": [
    "# load train data\n",
    "data_train = read_csv('climate_hour_train.csv', index_col=0, parse_dates=True)\n",
    "data_train.columns = ['p','T','Tpot','Tdew','rh','VPmax','VPact','VPdef','sh','H2OC','rho','wv','maxwv','wd']\n",
    "data_train.head(1)"
   ]
  },
  {
   "cell_type": "code",
   "execution_count": 8,
   "metadata": {},
   "outputs": [],
   "source": [
    "# add columns with year, month, and weekday name\n",
    "data_train['Year'] = data_train.index.year\n",
    "data_train['Month'] = data_train.index.month\n",
    "data_train['Weekday Name'] = data_train.index.weekday_name"
   ]
  },
  {
   "cell_type": "code",
   "execution_count": 9,
   "metadata": {},
   "outputs": [],
   "source": [
    "# set aside temperature column for later use\n",
    "temp = data_train['T']"
   ]
  },
  {
   "cell_type": "code",
   "execution_count": 10,
   "metadata": {},
   "outputs": [
    {
     "data": {
      "text/plain": [
       "Text(0.5, 0.98, 'Temperature line chart')"
      ]
     },
     "execution_count": 10,
     "metadata": {},
     "output_type": "execute_result"
    },
    {
     "data": {
      "image/png": "[encoded data removed]",
      "text/plain": [
       "<Figure size 792x288 with 1 Axes>"
      ]
     },
     "metadata": {},
     "output_type": "display_data"
    }
   ],
   "source": [
    "# line graph of T (degC) of training set \n",
    "data_train['T'].plot(linewidth=0.5)\n",
    "pyplot.suptitle('Temperature line chart')\n",
    "#pyplot.savefig(\"Graph4.pdf\", bbox_inches='tight')"
   ]
  },
  {
   "cell_type": "code",
   "execution_count": 11,
   "metadata": {},
   "outputs": [
    {
     "data": {
      "text/plain": [
       "Text(0.5, 0.98, 'Correlation matrix')"
      ]
     },
     "execution_count": 11,
     "metadata": {},
     "output_type": "execute_result"
    },
    {
     "data": {
      "image/png": "[encoded data removed]",
      "text/plain": [
       "<Figure size 792x648 with 2 Axes>"
      ]
     },
     "metadata": {},
     "output_type": "display_data"
    }
   ],
   "source": [
    "sns.set(style=\"white\")\n",
    "\n",
    "# Compute the correlation matrix\n",
    "corr = data_train.corr()\n",
    "\n",
    "# Generate a mask for the upper triangle\n",
    "mask = np.zeros_like(corr, dtype=np.bool)\n",
    "mask[np.triu_indices_from(mask)] = True\n",
    "\n",
    "# Set up the matplotlib figure\n",
    "f, ax = pyplot.subplots(figsize=(11, 9))\n",
    "\n",
    "# Generate a custom diverging colormap\n",
    "cmap = sns.diverging_palette(220, 10, as_cmap=True)\n",
    "\n",
    "# Draw the heatmap with the mask and correct aspect ratio\n",
    "sns.heatmap(corr, mask=mask, cmap=cmap, vmax=.3, center=0, square=True, linewidths=.5, cbar_kws={\"shrink\": .5})\n",
    "pyplot.suptitle('Correlation matrix')\n",
    "#pyplot.savefig(\"Graph5.pdf\", bbox_inches='tight')"
   ]
  },
  {
   "cell_type": "markdown",
   "metadata": {},
   "source": [
    "#### Comment: \n",
    "from the Correlation matrix, we can see that varible 'rho' has strong negative correlations with many other variables, such as T, Tpot, Tdew, etc. "
   ]
  },
  {
   "cell_type": "markdown",
   "metadata": {},
   "source": [
    "### Data preparation "
   ]
  },
  {
   "cell_type": "code",
   "execution_count": 12,
   "metadata": {},
   "outputs": [],
   "source": [
    "# function to convert time-series data to supervised learning dataframes \n",
    "# this function code is borrowed from this sorce:\n",
    "# https://machinelearningmastery.com/multivariate-time-series-forecasting-lstms-keras/\n",
    "\n",
    "def series_to_supervised(data, n_in=1, n_out=1, dropnan=True):\n",
    "    \"\"\"\n",
    "    Frame a time series as a supervised learning dataset.\n",
    "    Arguments:\n",
    "        data: Sequence of observations as a list or NumPy array.\n",
    "        n_in: Number of lag observations as input (X).\n",
    "        n_out: Number of observations as output (y).\n",
    "        dropnan: Boolean whether or not to drop rows with NaN values.\n",
    "    Returns:\n",
    "        Pandas DataFrame of series framed for supervised learning.\n",
    "    \"\"\"\n",
    "    n_vars = 1 if type(data) is list else data.shape[1]\n",
    "    df = DataFrame(data)\n",
    "    cols, names = list(), list()\n",
    "    # input sequence (t-n, ... t-1)\n",
    "    for i in range(n_in, 0, -1):\n",
    "        cols.append(df.shift(i))\n",
    "        names += [('var%d(t-%d)' % (j+1, i)) for j in range(n_vars)]\n",
    "    # forecast sequence (t, t+1, ... t+n)\n",
    "    for i in range(0, n_out):\n",
    "        cols.append(df.shift(-i))\n",
    "        if i == 0:\n",
    "            names += [('var%d(t)' % (j+1)) for j in range(n_vars)]\n",
    "        else:\n",
    "            names += [('var%d(t+%d)' % (j+1, i)) for j in range(n_vars)]\n",
    "    # put it all together\n",
    "    agg = concat(cols, axis=1)\n",
    "    agg.columns = names\n",
    "    # drop rows with NaN values\n",
    "    if dropnan:\n",
    "        agg.dropna(inplace=True)\n",
    "    return agg"
   ]
  },
  {
   "cell_type": "code",
   "execution_count": 13,
   "metadata": {},
   "outputs": [],
   "source": [
    "# control switches:\n",
    "ft_norm = 1            # switch for feature normalization: 0=MinMax, 1=Standard(Z-value)"
   ]
  },
  {
   "cell_type": "code",
   "execution_count": 14,
   "metadata": {},
   "outputs": [],
   "source": [
    "# load train dataset\n",
    "dataset = read_csv('climate_train.csv', header=0, index_col=0)\n",
    "data_train = dataset.values\n",
    "\n",
    "# min/max temps in the case when MinMax Normalization is used \n",
    "if ft_norm == 0:\n",
    "    min_temp = temp.min()\n",
    "    max_temp = temp.max()\n",
    "    print('Min temp:', min_temp)\n",
    "    print('Max temp:', max_temp)\n",
    "\n",
    "# ensure all data is float\n",
    "data_train = data_train.astype('float32')"
   ]
  },
  {
   "cell_type": "code",
   "execution_count": 15,
   "metadata": {},
   "outputs": [
    {
     "name": "stdout",
     "output_type": "stream",
     "text": [
      "Standard Normalization Applied\n"
     ]
    }
   ],
   "source": [
    "# normalize features BEFORE separate input and output of train/validation set\n",
    "if ft_norm == 0:\n",
    "    scaler = MinMaxScaler(feature_range=(0, 1))\n",
    "    normalized_train = scaler.fit_transform(data_train)\n",
    "    print('MinMax Normalization Applied')\n",
    "    \n",
    "if ft_norm == 1:\n",
    "    scaler = StandardScaler()\n",
    "    normalized_train = scaler.fit_transform(data_train)\n",
    "    print('Standard Normalization Applied')\n",
    "\n",
    "# using series_to_supervised(), frame as supervised learning, with 24-hour timesteps\n",
    "reframed_train = series_to_supervised( normalized_train, 24, 1)"
   ]
  },
  {
   "cell_type": "code",
   "execution_count": 11,
   "metadata": {},
   "outputs": [],
   "source": [
    "# If previous cell is run, DON'T run this cell\n",
    "# using series_to_supervised(), frame as supervised learning, with 24-hour timesteps\n",
    "#reframed_train = series_to_supervised(data_train, 24, 1)"
   ]
  },
  {
   "cell_type": "code",
   "execution_count": 16,
   "metadata": {},
   "outputs": [
    {
     "data": {
      "text/plain": [
       "(52542, 350)"
      ]
     },
     "execution_count": 16,
     "metadata": {},
     "output_type": "execute_result"
    }
   ],
   "source": [
    "# check shape of reframed data\n",
    "reframed_train.shape"
   ]
  },
  {
   "cell_type": "code",
   "execution_count": 17,
   "metadata": {},
   "outputs": [
    {
     "data": {
      "text/html": [
       "<div>\n",
       "<style scoped>\n",
       "    .dataframe tbody tr th:only-of-type {\n",
       "        vertical-align: middle;\n",
       "    }\n",
       "\n",
       "    .dataframe tbody tr th {\n",
       "        vertical-align: top;\n",
       "    }\n",
       "\n",
       "    .dataframe thead th {\n",
       "        text-align: right;\n",
       "    }\n",
       "</style>\n",
       "<table border=\"1\" class=\"dataframe\">\n",
       "  <thead>\n",
       "    <tr style=\"text-align: right;\">\n",
       "      <th></th>\n",
       "      <th>var1(t-24)</th>\n",
       "      <th>var2(t-24)</th>\n",
       "      <th>var3(t-24)</th>\n",
       "      <th>var4(t-24)</th>\n",
       "      <th>var5(t-24)</th>\n",
       "      <th>var6(t-24)</th>\n",
       "      <th>var7(t-24)</th>\n",
       "      <th>var8(t-24)</th>\n",
       "      <th>var9(t-24)</th>\n",
       "      <th>var10(t-24)</th>\n",
       "      <th>...</th>\n",
       "      <th>var5(t)</th>\n",
       "      <th>var6(t)</th>\n",
       "      <th>var7(t)</th>\n",
       "      <th>var8(t)</th>\n",
       "      <th>var9(t)</th>\n",
       "      <th>var10(t)</th>\n",
       "      <th>var11(t)</th>\n",
       "      <th>var12(t)</th>\n",
       "      <th>var13(t)</th>\n",
       "      <th>var14(t)</th>\n",
       "    </tr>\n",
       "  </thead>\n",
       "  <tbody>\n",
       "    <tr>\n",
       "      <th>24</th>\n",
       "      <td>0.949505</td>\n",
       "      <td>-2.018375</td>\n",
       "      <td>-2.077203</td>\n",
       "      <td>-1.958654</td>\n",
       "      <td>1.09286</td>\n",
       "      <td>-1.324296</td>\n",
       "      <td>-1.50373</td>\n",
       "      <td>-0.785322</td>\n",
       "      <td>-1.506341</td>\n",
       "      <td>-1.509068</td>\n",
       "      <td>...</td>\n",
       "      <td>1.09286</td>\n",
       "      <td>-1.184305</td>\n",
       "      <td>-1.263348</td>\n",
       "      <td>-0.772619</td>\n",
       "      <td>-1.273859</td>\n",
       "      <td>-1.273939</td>\n",
       "      <td>1.897919</td>\n",
       "      <td>-1.216455</td>\n",
       "      <td>-1.09761</td>\n",
       "      <td>-0.29329</td>\n",
       "    </tr>\n",
       "  </tbody>\n",
       "</table>\n",
       "<p>1 rows × 350 columns</p>\n",
       "</div>"
      ],
      "text/plain": [
       "    var1(t-24)  var2(t-24)  var3(t-24)  var4(t-24)  var5(t-24)  var6(t-24)  \\\n",
       "24    0.949505   -2.018375   -2.077203   -1.958654     1.09286   -1.324296   \n",
       "\n",
       "    var7(t-24)  var8(t-24)  var9(t-24)  var10(t-24)  ...  var5(t)   var6(t)  \\\n",
       "24    -1.50373   -0.785322   -1.506341    -1.509068  ...  1.09286 -1.184305   \n",
       "\n",
       "     var7(t)   var8(t)   var9(t)  var10(t)  var11(t)  var12(t)  var13(t)  \\\n",
       "24 -1.263348 -0.772619 -1.273859 -1.273939  1.897919 -1.216455  -1.09761   \n",
       "\n",
       "    var14(t)  \n",
       "24  -0.29329  \n",
       "\n",
       "[1 rows x 350 columns]"
      ]
     },
     "execution_count": 17,
     "metadata": {},
     "output_type": "execute_result"
    }
   ],
   "source": [
    "# the first row of reframed data\n",
    "reframed_train.head(1)"
   ]
  },
  {
   "cell_type": "markdown",
   "metadata": {},
   "source": [
    "#### Comment: \n",
    "We can see that the index of the first row is 24, because we specified in series_to_supervised() to drop the rows with NaN values after data is reframed to be time-series with 24-hour timestep.  "
   ]
  },
  {
   "cell_type": "code",
   "execution_count": 18,
   "metadata": {},
   "outputs": [
    {
     "data": {
      "text/html": [
       "<div>\n",
       "<style scoped>\n",
       "    .dataframe tbody tr th:only-of-type {\n",
       "        vertical-align: middle;\n",
       "    }\n",
       "\n",
       "    .dataframe tbody tr th {\n",
       "        vertical-align: top;\n",
       "    }\n",
       "\n",
       "    .dataframe thead th {\n",
       "        text-align: right;\n",
       "    }\n",
       "</style>\n",
       "<table border=\"1\" class=\"dataframe\">\n",
       "  <thead>\n",
       "    <tr style=\"text-align: right;\">\n",
       "      <th></th>\n",
       "      <th>var1(t-24)</th>\n",
       "      <th>var2(t-24)</th>\n",
       "      <th>var3(t-24)</th>\n",
       "      <th>var4(t-24)</th>\n",
       "      <th>var5(t-24)</th>\n",
       "      <th>var6(t-24)</th>\n",
       "      <th>var7(t-24)</th>\n",
       "      <th>var8(t-24)</th>\n",
       "      <th>var9(t-24)</th>\n",
       "      <th>var10(t-24)</th>\n",
       "      <th>...</th>\n",
       "      <th>var6(t-1)</th>\n",
       "      <th>var7(t-1)</th>\n",
       "      <th>var8(t-1)</th>\n",
       "      <th>var9(t-1)</th>\n",
       "      <th>var10(t-1)</th>\n",
       "      <th>var11(t-1)</th>\n",
       "      <th>var12(t-1)</th>\n",
       "      <th>var13(t-1)</th>\n",
       "      <th>var14(t-1)</th>\n",
       "      <th>var2(t)</th>\n",
       "    </tr>\n",
       "  </thead>\n",
       "  <tbody>\n",
       "    <tr>\n",
       "      <th>24</th>\n",
       "      <td>0.949505</td>\n",
       "      <td>-2.018375</td>\n",
       "      <td>-2.077203</td>\n",
       "      <td>-1.958654</td>\n",
       "      <td>1.092860</td>\n",
       "      <td>-1.324296</td>\n",
       "      <td>-1.503730</td>\n",
       "      <td>-0.785322</td>\n",
       "      <td>-1.506341</td>\n",
       "      <td>-1.509068</td>\n",
       "      <td>...</td>\n",
       "      <td>-1.188267</td>\n",
       "      <td>-1.284768</td>\n",
       "      <td>-0.762033</td>\n",
       "      <td>-1.292607</td>\n",
       "      <td>-1.295100</td>\n",
       "      <td>1.919185</td>\n",
       "      <td>-1.131533</td>\n",
       "      <td>-1.149485</td>\n",
       "      <td>-0.214207</td>\n",
       "      <td>-1.595312</td>\n",
       "    </tr>\n",
       "    <tr>\n",
       "      <th>25</th>\n",
       "      <td>0.964156</td>\n",
       "      <td>-2.115645</td>\n",
       "      <td>-2.174821</td>\n",
       "      <td>-2.101664</td>\n",
       "      <td>1.019823</td>\n",
       "      <td>-1.352030</td>\n",
       "      <td>-1.560851</td>\n",
       "      <td>-0.781088</td>\n",
       "      <td>-1.562587</td>\n",
       "      <td>-1.565499</td>\n",
       "      <td>...</td>\n",
       "      <td>-1.184305</td>\n",
       "      <td>-1.263348</td>\n",
       "      <td>-0.772619</td>\n",
       "      <td>-1.273859</td>\n",
       "      <td>-1.273939</td>\n",
       "      <td>1.897919</td>\n",
       "      <td>-1.216455</td>\n",
       "      <td>-1.097610</td>\n",
       "      <td>-0.293290</td>\n",
       "      <td>-1.577733</td>\n",
       "    </tr>\n",
       "    <tr>\n",
       "      <th>26</th>\n",
       "      <td>0.991019</td>\n",
       "      <td>-2.107441</td>\n",
       "      <td>-2.169012</td>\n",
       "      <td>-2.085773</td>\n",
       "      <td>1.038082</td>\n",
       "      <td>-1.350709</td>\n",
       "      <td>-1.553711</td>\n",
       "      <td>-0.783205</td>\n",
       "      <td>-1.555088</td>\n",
       "      <td>-1.558445</td>\n",
       "      <td>...</td>\n",
       "      <td>-1.177702</td>\n",
       "      <td>-1.251448</td>\n",
       "      <td>-0.774736</td>\n",
       "      <td>-1.258860</td>\n",
       "      <td>-1.262182</td>\n",
       "      <td>1.867009</td>\n",
       "      <td>-1.079274</td>\n",
       "      <td>-1.149485</td>\n",
       "      <td>0.413871</td>\n",
       "      <td>-1.596484</td>\n",
       "    </tr>\n",
       "  </tbody>\n",
       "</table>\n",
       "<p>3 rows × 337 columns</p>\n",
       "</div>"
      ],
      "text/plain": [
       "    var1(t-24)  var2(t-24)  var3(t-24)  var4(t-24)  var5(t-24)  var6(t-24)  \\\n",
       "24    0.949505   -2.018375   -2.077203   -1.958654    1.092860   -1.324296   \n",
       "25    0.964156   -2.115645   -2.174821   -2.101664    1.019823   -1.352030   \n",
       "26    0.991019   -2.107441   -2.169012   -2.085773    1.038082   -1.350709   \n",
       "\n",
       "    var7(t-24)  var8(t-24)  var9(t-24)  var10(t-24)  ...  var6(t-1)  \\\n",
       "24   -1.503730   -0.785322   -1.506341    -1.509068  ...  -1.188267   \n",
       "25   -1.560851   -0.781088   -1.562587    -1.565499  ...  -1.184305   \n",
       "26   -1.553711   -0.783205   -1.555088    -1.558445  ...  -1.177702   \n",
       "\n",
       "    var7(t-1)  var8(t-1)  var9(t-1)  var10(t-1)  var11(t-1)  var12(t-1)  \\\n",
       "24  -1.284768  -0.762033  -1.292607   -1.295100    1.919185   -1.131533   \n",
       "25  -1.263348  -0.772619  -1.273859   -1.273939    1.897919   -1.216455   \n",
       "26  -1.251448  -0.774736  -1.258860   -1.262182    1.867009   -1.079274   \n",
       "\n",
       "    var13(t-1)  var14(t-1)   var2(t)  \n",
       "24   -1.149485   -0.214207 -1.595312  \n",
       "25   -1.097610   -0.293290 -1.577733  \n",
       "26   -1.149485    0.413871 -1.596484  \n",
       "\n",
       "[3 rows x 337 columns]"
      ]
     },
     "execution_count": 18,
     "metadata": {},
     "output_type": "execute_result"
    }
   ],
   "source": [
    "# for the last 14 columns (at time t), drop all except for the temperature column which is column var2(t)\n",
    "# var2(t) will be y target values used for training the model\n",
    "cols_reframed = reframed_train.shape[1]\n",
    "cols_drop = [x for x in range(cols_reframed-12,cols_reframed)]\n",
    "cols_drop.append(cols_reframed-14)\n",
    "reframed_train.drop(reframed_train.columns[cols_drop], axis=1, inplace=True)\n",
    "reframed_train.head(3)"
   ]
  },
  {
   "cell_type": "code",
   "execution_count": 19,
   "metadata": {},
   "outputs": [
    {
     "data": {
      "text/plain": [
       "(52542, 337)"
      ]
     },
     "execution_count": 19,
     "metadata": {},
     "output_type": "execute_result"
    }
   ],
   "source": [
    "# check shape of reframed data after dropping not-needed columns\n",
    "reframed_train.shape"
   ]
  },
  {
   "cell_type": "code",
   "execution_count": 20,
   "metadata": {},
   "outputs": [],
   "source": [
    "# split reframed data into train and validation sets, with train/valid proportions of 80/20\n",
    "train_set = reframed_train.loc[:42035]\n",
    "valid_set = reframed_train.loc[42036:]"
   ]
  },
  {
   "cell_type": "code",
   "execution_count": 21,
   "metadata": {},
   "outputs": [
    {
     "name": "stdout",
     "output_type": "stream",
     "text": [
      "(42012, 336) (42012,)\n",
      "(10530, 336) (10530,)\n"
     ]
    }
   ],
   "source": [
    "# Split train and validation data into input and output\n",
    "train_values = train_set.values  \n",
    "valid_values = valid_set.values  \n",
    "xtrain, ytrain = train_values[:, :-1], train_values[:, -1]\n",
    "xvalid, yvalid = valid_values[:, :-1], valid_values[:, -1]\n",
    "\n",
    "print(xtrain.shape, ytrain.shape)\n",
    "print(xvalid.shape, yvalid.shape)"
   ]
  },
  {
   "cell_type": "code",
   "execution_count": 17,
   "metadata": {},
   "outputs": [],
   "source": [
    "# if ALREADY applied normalization, DON'T run this cell\n",
    "# normalize features AFTER separate input and output of train/validation set\n",
    "#if ft_norm == 0:\n",
    "#    scaler = MinMaxScaler(feature_range=(0, 1))\n",
    "#    xtrain = scaler.fit_transform(xtrain)\n",
    "#    xvalid = scaler.fit_transform(xvalid)\n",
    "#if ft_norm == 1:\n",
    "#    scaler = StandardScaler()\n",
    "#    xtrain = scaler.fit_transform(xtrain)\n",
    "#    xvalid = scaler.fit_transform(xvalid)"
   ]
  },
  {
   "cell_type": "code",
   "execution_count": 22,
   "metadata": {},
   "outputs": [
    {
     "data": {
      "text/plain": [
       "337"
      ]
     },
     "execution_count": 22,
     "metadata": {},
     "output_type": "execute_result"
    }
   ],
   "source": [
    "# get the column labels from reframed_train for later use\n",
    "# there should be 337 column labels, including var2(t)\n",
    "headers = list(reframed_train.columns.values)\n",
    "len(headers)"
   ]
  },
  {
   "cell_type": "code",
   "execution_count": 23,
   "metadata": {},
   "outputs": [
    {
     "name": "stdout",
     "output_type": "stream",
     "text": [
      "(42012, 24, 14) (42012,)\n",
      "(10530, 24, 14) (10530,)\n"
     ]
    }
   ],
   "source": [
    "# Reshape train/valid input data to be Keras-ready format [samples, timesteps, features]\n",
    "xtrain = xtrain.reshape((xtrain.shape[0], 24, 14))\n",
    "xvalid = xvalid.reshape((xvalid.shape[0], 24, 14))\n",
    "print(xtrain.shape, ytrain.shape)\n",
    "print(xvalid.shape, yvalid.shape)"
   ]
  },
  {
   "cell_type": "code",
   "execution_count": 24,
   "metadata": {},
   "outputs": [
    {
     "name": "stdout",
     "output_type": "stream",
     "text": [
      "Standard Normalization Applied\n"
     ]
    },
    {
     "data": {
      "text/html": [
       "<div>\n",
       "<style scoped>\n",
       "    .dataframe tbody tr th:only-of-type {\n",
       "        vertical-align: middle;\n",
       "    }\n",
       "\n",
       "    .dataframe tbody tr th {\n",
       "        vertical-align: top;\n",
       "    }\n",
       "\n",
       "    .dataframe thead th {\n",
       "        text-align: right;\n",
       "    }\n",
       "</style>\n",
       "<table border=\"1\" class=\"dataframe\">\n",
       "  <thead>\n",
       "    <tr style=\"text-align: right;\">\n",
       "      <th></th>\n",
       "      <th>var1(t-24)</th>\n",
       "      <th>var2(t-24)</th>\n",
       "      <th>var3(t-24)</th>\n",
       "      <th>var4(t-24)</th>\n",
       "      <th>var5(t-24)</th>\n",
       "      <th>var6(t-24)</th>\n",
       "      <th>var7(t-24)</th>\n",
       "      <th>var8(t-24)</th>\n",
       "      <th>var9(t-24)</th>\n",
       "      <th>var10(t-24)</th>\n",
       "      <th>...</th>\n",
       "      <th>var5(t-1)</th>\n",
       "      <th>var6(t-1)</th>\n",
       "      <th>var7(t-1)</th>\n",
       "      <th>var8(t-1)</th>\n",
       "      <th>var9(t-1)</th>\n",
       "      <th>var10(t-1)</th>\n",
       "      <th>var11(t-1)</th>\n",
       "      <th>var12(t-1)</th>\n",
       "      <th>var13(t-1)</th>\n",
       "      <th>var14(t-1)</th>\n",
       "    </tr>\n",
       "  </thead>\n",
       "  <tbody>\n",
       "    <tr>\n",
       "      <th>0</th>\n",
       "      <td>1.903414</td>\n",
       "      <td>-1.025059</td>\n",
       "      <td>-1.173929</td>\n",
       "      <td>-0.592940</td>\n",
       "      <td>1.457023</td>\n",
       "      <td>-0.871958</td>\n",
       "      <td>-0.670693</td>\n",
       "      <td>-0.815798</td>\n",
       "      <td>-0.695286</td>\n",
       "      <td>-0.697433</td>\n",
       "      <td>...</td>\n",
       "      <td>1.046736</td>\n",
       "      <td>-0.903104</td>\n",
       "      <td>-0.841106</td>\n",
       "      <td>-0.730031</td>\n",
       "      <td>-0.857686</td>\n",
       "      <td>-0.858530</td>\n",
       "      <td>1.409601</td>\n",
       "      <td>0.020782</td>\n",
       "      <td>0.022371</td>\n",
       "      <td>-0.247042</td>\n",
       "    </tr>\n",
       "    <tr>\n",
       "      <th>1</th>\n",
       "      <td>1.888431</td>\n",
       "      <td>-1.005078</td>\n",
       "      <td>-1.153019</td>\n",
       "      <td>-0.564969</td>\n",
       "      <td>1.463089</td>\n",
       "      <td>-0.862164</td>\n",
       "      <td>-0.648848</td>\n",
       "      <td>-0.817669</td>\n",
       "      <td>-0.676181</td>\n",
       "      <td>-0.675859</td>\n",
       "      <td>...</td>\n",
       "      <td>0.913191</td>\n",
       "      <td>-0.889642</td>\n",
       "      <td>-0.855654</td>\n",
       "      <td>-0.700084</td>\n",
       "      <td>-0.869137</td>\n",
       "      <td>-0.870502</td>\n",
       "      <td>1.353365</td>\n",
       "      <td>0.018037</td>\n",
       "      <td>0.020787</td>\n",
       "      <td>-0.245860</td>\n",
       "    </tr>\n",
       "    <tr>\n",
       "      <th>2</th>\n",
       "      <td>1.931073</td>\n",
       "      <td>-1.027556</td>\n",
       "      <td>-1.178850</td>\n",
       "      <td>-0.596231</td>\n",
       "      <td>1.457023</td>\n",
       "      <td>-0.873182</td>\n",
       "      <td>-0.673120</td>\n",
       "      <td>-0.817669</td>\n",
       "      <td>-0.699107</td>\n",
       "      <td>-0.699830</td>\n",
       "      <td>...</td>\n",
       "      <td>0.913191</td>\n",
       "      <td>-0.893314</td>\n",
       "      <td>-0.862928</td>\n",
       "      <td>-0.701956</td>\n",
       "      <td>-0.876771</td>\n",
       "      <td>-0.875292</td>\n",
       "      <td>1.340087</td>\n",
       "      <td>0.005150</td>\n",
       "      <td>0.009628</td>\n",
       "      <td>-0.505860</td>\n",
       "    </tr>\n",
       "  </tbody>\n",
       "</table>\n",
       "<p>3 rows × 336 columns</p>\n",
       "</div>"
      ],
      "text/plain": [
       "   var1(t-24)  var2(t-24)  var3(t-24)  var4(t-24)  var5(t-24)  var6(t-24)  \\\n",
       "0    1.903414   -1.025059   -1.173929   -0.592940    1.457023   -0.871958   \n",
       "1    1.888431   -1.005078   -1.153019   -0.564969    1.463089   -0.862164   \n",
       "2    1.931073   -1.027556   -1.178850   -0.596231    1.457023   -0.873182   \n",
       "\n",
       "   var7(t-24)  var8(t-24)  var9(t-24)  var10(t-24)  ...  var5(t-1)  var6(t-1)  \\\n",
       "0   -0.670693   -0.815798   -0.695286    -0.697433  ...   1.046736  -0.903104   \n",
       "1   -0.648848   -0.817669   -0.676181    -0.675859  ...   0.913191  -0.889642   \n",
       "2   -0.673120   -0.817669   -0.699107    -0.699830  ...   0.913191  -0.893314   \n",
       "\n",
       "   var7(t-1)  var8(t-1)  var9(t-1)  var10(t-1)  var11(t-1)  var12(t-1)  \\\n",
       "0  -0.841106  -0.730031  -0.857686   -0.858530    1.409601    0.020782   \n",
       "1  -0.855654  -0.700084  -0.869137   -0.870502    1.353365    0.018037   \n",
       "2  -0.862928  -0.701956  -0.876771   -0.875292    1.340087    0.005150   \n",
       "\n",
       "   var13(t-1)  var14(t-1)  \n",
       "0    0.022371   -0.247042  \n",
       "1    0.020787   -0.245860  \n",
       "2    0.009628   -0.505860  \n",
       "\n",
       "[3 rows x 336 columns]"
      ]
     },
     "execution_count": 24,
     "metadata": {},
     "output_type": "execute_result"
    }
   ],
   "source": [
    "# load test dataset\n",
    "dataset = read_csv('climate_Xtest.csv', header=None, index_col=False)\n",
    "data_test = dataset.values\n",
    "\n",
    "# ensure all data is float\n",
    "data_test = data_test.astype('float32')\n",
    "\n",
    "# normalize features\n",
    "if ft_norm == 0:\n",
    "    scaler = MinMaxScaler(feature_range=(0, 1))\n",
    "    normalized_test = scaler.fit_transform(data_test)\n",
    "    print('MinMax Normalization Applied')\n",
    "    \n",
    "if ft_norm == 1:\n",
    "    scaler = StandardScaler()\n",
    "    normalized_test = scaler.fit_transform(data_test)\n",
    "    print('Standard Normalization Applied')\n",
    "\n",
    "xtest = DataFrame(normalized_test, columns=headers[:-1]) # assign column names to test set using the the list 'headers'\n",
    "xtest.head(3)"
   ]
  },
  {
   "cell_type": "code",
   "execution_count": 25,
   "metadata": {},
   "outputs": [
    {
     "data": {
      "text/plain": [
       "(17447, 336)"
      ]
     },
     "execution_count": 25,
     "metadata": {},
     "output_type": "execute_result"
    }
   ],
   "source": [
    "# check shape of test data\n",
    "xtest.shape"
   ]
  },
  {
   "cell_type": "code",
   "execution_count": 26,
   "metadata": {},
   "outputs": [],
   "source": [
    "# reshape test input data to be Keras-ready format [samples, timesteps, features]\n",
    "xtest = xtest.values \n",
    "xtest = xtest.reshape((xtest.shape[0], 24, 14))"
   ]
  },
  {
   "cell_type": "code",
   "execution_count": 27,
   "metadata": {},
   "outputs": [
    {
     "data": {
      "text/plain": [
       "(17447, 24, 14)"
      ]
     },
     "execution_count": 27,
     "metadata": {},
     "output_type": "execute_result"
    }
   ],
   "source": [
    "# check shape of test data\n",
    "xtest.shape"
   ]
  },
  {
   "cell_type": "markdown",
   "metadata": {},
   "source": [
    "### Define and fit RNN model"
   ]
  },
  {
   "cell_type": "markdown",
   "metadata": {},
   "source": [
    "#### Basic Initial LSTM"
   ]
  },
  {
   "cell_type": "code",
   "execution_count": 28,
   "metadata": {
    "scrolled": true
   },
   "outputs": [
    {
     "name": "stdout",
     "output_type": "stream",
     "text": [
      "WARNING:tensorflow:From C:\\Users\\ht389\\AppData\\Local\\Continuum\\anaconda3\\lib\\site-packages\\tensorflow\\python\\framework\\op_def_library.py:263: colocate_with (from tensorflow.python.framework.ops) is deprecated and will be removed in a future version.\n",
      "Instructions for updating:\n",
      "Colocations handled automatically by placer.\n",
      "_________________________________________________________________\n",
      "Layer (type)                 Output Shape              Param #   \n",
      "=================================================================\n",
      "lstm_1 (LSTM)                (None, 50)                13000     \n",
      "_________________________________________________________________\n",
      "dense_1 (Dense)              (None, 1)                 51        \n",
      "=================================================================\n",
      "Total params: 13,051\n",
      "Trainable params: 13,051\n",
      "Non-trainable params: 0\n",
      "_________________________________________________________________\n"
     ]
    }
   ],
   "source": [
    "# design network 1\n",
    "model = Sequential()\n",
    "model.add(LSTM(50, input_shape=(xtrain.shape[1], xtrain.shape[2])))\n",
    "model.add(Dense(1))\n",
    "\n",
    "model.compile(loss='mae', optimizer='adam', metrics=['mse'])\n",
    "model.summary()"
   ]
  },
  {
   "cell_type": "code",
   "execution_count": 29,
   "metadata": {
    "scrolled": true
   },
   "outputs": [
    {
     "name": "stdout",
     "output_type": "stream",
     "text": [
      "WARNING:tensorflow:From C:\\Users\\ht389\\AppData\\Local\\Continuum\\anaconda3\\lib\\site-packages\\tensorflow\\python\\ops\\math_ops.py:3066: to_int32 (from tensorflow.python.ops.math_ops) is deprecated and will be removed in a future version.\n",
      "Instructions for updating:\n",
      "Use tf.cast instead.\n",
      "Train on 42012 samples, validate on 10530 samples\n",
      "Epoch 1/50\n",
      " - 13s - loss: 0.1245 - mean_squared_error: 0.0429 - val_loss: 0.0744 - val_mean_squared_error: 0.0104\n",
      "Epoch 2/50\n",
      " - 13s - loss: 0.0694 - mean_squared_error: 0.0098 - val_loss: 0.0624 - val_mean_squared_error: 0.0078\n",
      "Epoch 3/50\n",
      " - 14s - loss: 0.0642 - mean_squared_error: 0.0084 - val_loss: 0.0594 - val_mean_squared_error: 0.0075\n",
      "Epoch 4/50\n",
      " - 17s - loss: 0.0609 - mean_squared_error: 0.0078 - val_loss: 0.0586 - val_mean_squared_error: 0.0072\n",
      "Epoch 5/50\n",
      " - 16s - loss: 0.0602 - mean_squared_error: 0.0077 - val_loss: 0.0582 - val_mean_squared_error: 0.0071\n",
      "Epoch 6/50\n",
      " - 14s - loss: 0.0596 - mean_squared_error: 0.0075 - val_loss: 0.0589 - val_mean_squared_error: 0.0072\n",
      "Epoch 7/50\n",
      " - 15s - loss: 0.0590 - mean_squared_error: 0.0074 - val_loss: 0.0575 - val_mean_squared_error: 0.0071\n",
      "Epoch 8/50\n",
      " - 16s - loss: 0.0582 - mean_squared_error: 0.0073 - val_loss: 0.0585 - val_mean_squared_error: 0.0072\n",
      "Epoch 9/50\n",
      " - 16s - loss: 0.0579 - mean_squared_error: 0.0072 - val_loss: 0.0584 - val_mean_squared_error: 0.0071\n",
      "Epoch 10/50\n",
      " - 15s - loss: 0.0579 - mean_squared_error: 0.0072 - val_loss: 0.0573 - val_mean_squared_error: 0.0071\n",
      "Epoch 11/50\n",
      " - 15s - loss: 0.0575 - mean_squared_error: 0.0072 - val_loss: 0.0574 - val_mean_squared_error: 0.0070\n",
      "Epoch 12/50\n",
      " - 15s - loss: 0.0574 - mean_squared_error: 0.0071 - val_loss: 0.0575 - val_mean_squared_error: 0.0071\n",
      "Epoch 13/50\n",
      " - 15s - loss: 0.0574 - mean_squared_error: 0.0071 - val_loss: 0.0577 - val_mean_squared_error: 0.0070\n",
      "Epoch 14/50\n",
      " - 14s - loss: 0.0570 - mean_squared_error: 0.0071 - val_loss: 0.0563 - val_mean_squared_error: 0.0068\n",
      "Epoch 15/50\n",
      " - 14s - loss: 0.0565 - mean_squared_error: 0.0070 - val_loss: 0.0572 - val_mean_squared_error: 0.0068\n",
      "Epoch 16/50\n",
      " - 15s - loss: 0.0569 - mean_squared_error: 0.0070 - val_loss: 0.0567 - val_mean_squared_error: 0.0068\n",
      "Epoch 17/50\n",
      " - 15s - loss: 0.0565 - mean_squared_error: 0.0070 - val_loss: 0.0563 - val_mean_squared_error: 0.0068\n",
      "Epoch 18/50\n",
      " - 15s - loss: 0.0563 - mean_squared_error: 0.0069 - val_loss: 0.0570 - val_mean_squared_error: 0.0068\n",
      "Epoch 19/50\n",
      " - 16s - loss: 0.0557 - mean_squared_error: 0.0068 - val_loss: 0.0567 - val_mean_squared_error: 0.0068\n",
      "Epoch 20/50\n",
      " - 16s - loss: 0.0557 - mean_squared_error: 0.0068 - val_loss: 0.0567 - val_mean_squared_error: 0.0068\n",
      "Epoch 21/50\n",
      " - 16s - loss: 0.0554 - mean_squared_error: 0.0068 - val_loss: 0.0559 - val_mean_squared_error: 0.0067\n",
      "Epoch 22/50\n",
      " - 16s - loss: 0.0553 - mean_squared_error: 0.0068 - val_loss: 0.0561 - val_mean_squared_error: 0.0066\n",
      "Epoch 23/50\n",
      " - 15s - loss: 0.0557 - mean_squared_error: 0.0068 - val_loss: 0.0574 - val_mean_squared_error: 0.0068\n",
      "Epoch 24/50\n",
      " - 15s - loss: 0.0551 - mean_squared_error: 0.0067 - val_loss: 0.0559 - val_mean_squared_error: 0.0067\n",
      "Epoch 25/50\n",
      " - 14s - loss: 0.0549 - mean_squared_error: 0.0067 - val_loss: 0.0563 - val_mean_squared_error: 0.0067\n",
      "Epoch 26/50\n",
      " - 16s - loss: 0.0551 - mean_squared_error: 0.0067 - val_loss: 0.0567 - val_mean_squared_error: 0.0067\n",
      "Epoch 27/50\n",
      " - 16s - loss: 0.0553 - mean_squared_error: 0.0067 - val_loss: 0.0577 - val_mean_squared_error: 0.0068\n",
      "Epoch 28/50\n",
      " - 15s - loss: 0.0554 - mean_squared_error: 0.0067 - val_loss: 0.0585 - val_mean_squared_error: 0.0069\n",
      "Epoch 29/50\n",
      " - 16s - loss: 0.0554 - mean_squared_error: 0.0067 - val_loss: 0.0570 - val_mean_squared_error: 0.0067\n",
      "Epoch 30/50\n",
      " - 15s - loss: 0.0549 - mean_squared_error: 0.0067 - val_loss: 0.0571 - val_mean_squared_error: 0.0068\n",
      "Epoch 31/50\n",
      " - 15s - loss: 0.0549 - mean_squared_error: 0.0067 - val_loss: 0.0575 - val_mean_squared_error: 0.0068\n",
      "Epoch 32/50\n",
      " - 15s - loss: 0.0544 - mean_squared_error: 0.0066 - val_loss: 0.0590 - val_mean_squared_error: 0.0070\n",
      "Epoch 33/50\n",
      " - 15s - loss: 0.0547 - mean_squared_error: 0.0066 - val_loss: 0.0594 - val_mean_squared_error: 0.0071\n",
      "Epoch 34/50\n",
      " - 15s - loss: 0.0545 - mean_squared_error: 0.0066 - val_loss: 0.0587 - val_mean_squared_error: 0.0070\n",
      "Epoch 35/50\n",
      " - 16s - loss: 0.0542 - mean_squared_error: 0.0065 - val_loss: 0.0586 - val_mean_squared_error: 0.0069\n",
      "Epoch 36/50\n",
      " - 17s - loss: 0.0541 - mean_squared_error: 0.0065 - val_loss: 0.0575 - val_mean_squared_error: 0.0068\n",
      "Epoch 37/50\n",
      " - 15s - loss: 0.0538 - mean_squared_error: 0.0065 - val_loss: 0.0561 - val_mean_squared_error: 0.0066\n",
      "Epoch 38/50\n",
      " - 15s - loss: 0.0539 - mean_squared_error: 0.0065 - val_loss: 0.0580 - val_mean_squared_error: 0.0068\n",
      "Epoch 39/50\n",
      " - 15s - loss: 0.0540 - mean_squared_error: 0.0065 - val_loss: 0.0573 - val_mean_squared_error: 0.0067\n",
      "Epoch 40/50\n",
      " - 16s - loss: 0.0538 - mean_squared_error: 0.0065 - val_loss: 0.0576 - val_mean_squared_error: 0.0068\n",
      "Epoch 41/50\n",
      " - 16s - loss: 0.0533 - mean_squared_error: 0.0064 - val_loss: 0.0563 - val_mean_squared_error: 0.0066\n",
      "Epoch 42/50\n",
      " - 16s - loss: 0.0533 - mean_squared_error: 0.0064 - val_loss: 0.0568 - val_mean_squared_error: 0.0067\n",
      "Epoch 43/50\n",
      " - 15s - loss: 0.0530 - mean_squared_error: 0.0064 - val_loss: 0.0570 - val_mean_squared_error: 0.0067\n",
      "Epoch 44/50\n",
      " - 15s - loss: 0.0532 - mean_squared_error: 0.0064 - val_loss: 0.0573 - val_mean_squared_error: 0.0067\n",
      "Epoch 45/50\n",
      " - 15s - loss: 0.0540 - mean_squared_error: 0.0065 - val_loss: 0.0570 - val_mean_squared_error: 0.0068\n",
      "Epoch 46/50\n",
      " - 15s - loss: 0.0535 - mean_squared_error: 0.0064 - val_loss: 0.0571 - val_mean_squared_error: 0.0067\n",
      "Epoch 47/50\n",
      " - 15s - loss: 0.0529 - mean_squared_error: 0.0063 - val_loss: 0.0555 - val_mean_squared_error: 0.0065\n",
      "Epoch 48/50\n",
      " - 16s - loss: 0.0531 - mean_squared_error: 0.0063 - val_loss: 0.0579 - val_mean_squared_error: 0.0069\n",
      "Epoch 49/50\n",
      " - 16s - loss: 0.0529 - mean_squared_error: 0.0063 - val_loss: 0.0565 - val_mean_squared_error: 0.0066\n",
      "Epoch 50/50\n",
      " - 15s - loss: 0.0528 - mean_squared_error: 0.0063 - val_loss: 0.0564 - val_mean_squared_error: 0.0066\n"
     ]
    }
   ],
   "source": [
    "# fit network\n",
    "history = model.fit(xtrain, ytrain, \n",
    "                    epochs=50,\n",
    "                    batch_size=30,\n",
    "                    verbose=2, \n",
    "                    shuffle=False, \n",
    "                    validation_data=(xvalid, yvalid))"
   ]
  },
  {
   "cell_type": "code",
   "execution_count": 30,
   "metadata": {},
   "outputs": [
    {
     "data": {
      "image/png": "[encoded data removed]",
      "text/plain": [
       "<Figure size 792x288 with 1 Axes>"
      ]
     },
     "metadata": {},
     "output_type": "display_data"
    }
   ],
   "source": [
    "# plot history of loss for train and valid sets\n",
    "pyplot.plot(history.history['loss'], label='train')\n",
    "pyplot.plot(history.history['val_loss'], label='valid')\n",
    "pyplot.title('model train vs validation loss')\n",
    "pyplot.ylabel('loss')\n",
    "pyplot.xlabel('epoch')\n",
    "pyplot.legend()\n",
    "pyplot.savefig(\"Graph3.pdf\", bbox_inches='tight')\n",
    "pyplot.show()"
   ]
  },
  {
   "cell_type": "markdown",
   "metadata": {},
   "source": [
    "Notes on first model: \n",
    "01. Model with one LSTM layer LSTM(50, input_shape=(xtrain.shape[1], xtrain.shape[2])); loss='mae', optimizer='adam', metrics='mse' -- loss is "
   ]
  },
  {
   "cell_type": "markdown",
   "metadata": {},
   "source": [
    "#### Testing other network structures/models"
   ]
  },
  {
   "cell_type": "code",
   "execution_count": 34,
   "metadata": {},
   "outputs": [
    {
     "name": "stdout",
     "output_type": "stream",
     "text": [
      "_________________________________________________________________\n",
      "Layer (type)                 Output Shape              Param #   \n",
      "=================================================================\n",
      "gru_3 (GRU)                  (None, 24, 30)            4050      \n",
      "_________________________________________________________________\n",
      "gru_4 (GRU)                  (None, 30)                5490      \n",
      "_________________________________________________________________\n",
      "dense_3 (Dense)              (None, 1)                 31        \n",
      "=================================================================\n",
      "Total params: 9,571\n",
      "Trainable params: 9,571\n",
      "Non-trainable params: 0\n",
      "_________________________________________________________________\n"
     ]
    }
   ],
   "source": [
    "# design network 2\n",
    "model2 = Sequential()\n",
    "model2.add(GRU(30, return_sequences=True, input_shape=(xtrain.shape[1], xtrain.shape[2])))\n",
    "model2.add(GRU(30, return_sequences=False))\n",
    "model2.add(Dense(1))\n",
    "\n",
    "model2.compile(loss='mae',\n",
    "              optimizer='adam',\n",
    "              metrics=['mse'])\n",
    "model2.summary()"
   ]
  },
  {
   "cell_type": "code",
   "execution_count": 35,
   "metadata": {
    "scrolled": true
   },
   "outputs": [
    {
     "name": "stdout",
     "output_type": "stream",
     "text": [
      "Train on 42012 samples, validate on 10530 samples\n",
      "Epoch 1/50\n",
      " - 22s - loss: 0.1305 - mean_squared_error: 0.0399 - val_loss: 0.0778 - val_mean_squared_error: 0.0111\n",
      "Epoch 2/50\n",
      " - 20s - loss: 0.0763 - mean_squared_error: 0.0117 - val_loss: 0.0672 - val_mean_squared_error: 0.0086\n",
      "Epoch 3/50\n",
      " - 20s - loss: 0.0717 - mean_squared_error: 0.0104 - val_loss: 0.0623 - val_mean_squared_error: 0.0080\n",
      "Epoch 4/50\n",
      " - 21s - loss: 0.0688 - mean_squared_error: 0.0095 - val_loss: 0.0614 - val_mean_squared_error: 0.0079\n",
      "Epoch 5/50\n",
      " - 20s - loss: 0.0671 - mean_squared_error: 0.0091 - val_loss: 0.0620 - val_mean_squared_error: 0.0079\n",
      "Epoch 6/50\n",
      " - 21s - loss: 0.0648 - mean_squared_error: 0.0086 - val_loss: 0.0610 - val_mean_squared_error: 0.0078\n",
      "Epoch 7/50\n",
      " - 20s - loss: 0.0650 - mean_squared_error: 0.0086 - val_loss: 0.0645 - val_mean_squared_error: 0.0081\n",
      "Epoch 8/50\n",
      " - 21s - loss: 0.0623 - mean_squared_error: 0.0081 - val_loss: 0.0606 - val_mean_squared_error: 0.0078\n",
      "Epoch 9/50\n",
      " - 22s - loss: 0.0629 - mean_squared_error: 0.0082 - val_loss: 0.0593 - val_mean_squared_error: 0.0074\n",
      "Epoch 10/50\n",
      " - 22s - loss: 0.0611 - mean_squared_error: 0.0078 - val_loss: 0.0606 - val_mean_squared_error: 0.0078\n",
      "Epoch 11/50\n",
      " - 24s - loss: 0.0622 - mean_squared_error: 0.0080 - val_loss: 0.0584 - val_mean_squared_error: 0.0073\n",
      "Epoch 12/50\n",
      " - 25s - loss: 0.0598 - mean_squared_error: 0.0076 - val_loss: 0.0646 - val_mean_squared_error: 0.0083\n",
      "Epoch 13/50\n",
      " - 22s - loss: 0.0608 - mean_squared_error: 0.0077 - val_loss: 0.0599 - val_mean_squared_error: 0.0074\n",
      "Epoch 14/50\n",
      " - 26s - loss: 0.0595 - mean_squared_error: 0.0075 - val_loss: 0.0580 - val_mean_squared_error: 0.0071\n",
      "Epoch 15/50\n",
      " - 21s - loss: 0.0596 - mean_squared_error: 0.0075 - val_loss: 0.0593 - val_mean_squared_error: 0.0074\n",
      "Epoch 16/50\n",
      " - 21s - loss: 0.0590 - mean_squared_error: 0.0074 - val_loss: 0.0589 - val_mean_squared_error: 0.0072\n",
      "Epoch 17/50\n",
      " - 22s - loss: 0.0595 - mean_squared_error: 0.0075 - val_loss: 0.0598 - val_mean_squared_error: 0.0074\n",
      "Epoch 18/50\n",
      " - 21s - loss: 0.0595 - mean_squared_error: 0.0075 - val_loss: 0.0576 - val_mean_squared_error: 0.0071\n",
      "Epoch 19/50\n",
      " - 21s - loss: 0.0585 - mean_squared_error: 0.0073 - val_loss: 0.0615 - val_mean_squared_error: 0.0077\n",
      "Epoch 20/50\n",
      " - 21s - loss: 0.0589 - mean_squared_error: 0.0073 - val_loss: 0.0591 - val_mean_squared_error: 0.0072\n",
      "Epoch 21/50\n",
      " - 21s - loss: 0.0595 - mean_squared_error: 0.0074 - val_loss: 0.0584 - val_mean_squared_error: 0.0071\n",
      "Epoch 22/50\n",
      " - 21s - loss: 0.0583 - mean_squared_error: 0.0072 - val_loss: 0.0588 - val_mean_squared_error: 0.0071\n",
      "Epoch 23/50\n",
      " - 21s - loss: 0.0585 - mean_squared_error: 0.0073 - val_loss: 0.0600 - val_mean_squared_error: 0.0073\n",
      "Epoch 24/50\n",
      " - 20s - loss: 0.0594 - mean_squared_error: 0.0074 - val_loss: 0.0594 - val_mean_squared_error: 0.0072\n",
      "Epoch 25/50\n",
      " - 20s - loss: 0.0579 - mean_squared_error: 0.0071 - val_loss: 0.0580 - val_mean_squared_error: 0.0070\n",
      "Epoch 26/50\n",
      " - 21s - loss: 0.0580 - mean_squared_error: 0.0072 - val_loss: 0.0595 - val_mean_squared_error: 0.0073\n",
      "Epoch 27/50\n",
      " - 21s - loss: 0.0603 - mean_squared_error: 0.0077 - val_loss: 0.0596 - val_mean_squared_error: 0.0073\n",
      "Epoch 28/50\n",
      " - 21s - loss: 0.0575 - mean_squared_error: 0.0071 - val_loss: 0.0587 - val_mean_squared_error: 0.0071\n",
      "Epoch 29/50\n",
      " - 20s - loss: 0.0582 - mean_squared_error: 0.0072 - val_loss: 0.0575 - val_mean_squared_error: 0.0069\n",
      "Epoch 30/50\n",
      " - 20s - loss: 0.0567 - mean_squared_error: 0.0069 - val_loss: 0.0576 - val_mean_squared_error: 0.0069\n",
      "Epoch 31/50\n",
      " - 20s - loss: 0.0576 - mean_squared_error: 0.0071 - val_loss: 0.0589 - val_mean_squared_error: 0.0072\n",
      "Epoch 32/50\n",
      " - 21s - loss: 0.0566 - mean_squared_error: 0.0069 - val_loss: 0.0567 - val_mean_squared_error: 0.0067\n",
      "Epoch 33/50\n",
      " - 21s - loss: 0.0574 - mean_squared_error: 0.0070 - val_loss: 0.0586 - val_mean_squared_error: 0.0070\n",
      "Epoch 34/50\n",
      " - 21s - loss: 0.0563 - mean_squared_error: 0.0069 - val_loss: 0.0596 - val_mean_squared_error: 0.0072\n",
      "Epoch 35/50\n",
      " - 23s - loss: 0.0569 - mean_squared_error: 0.0069 - val_loss: 0.0592 - val_mean_squared_error: 0.0071\n",
      "Epoch 36/50\n",
      " - 23s - loss: 0.0564 - mean_squared_error: 0.0068 - val_loss: 0.0574 - val_mean_squared_error: 0.0068\n",
      "Epoch 37/50\n",
      " - 22s - loss: 0.0561 - mean_squared_error: 0.0068 - val_loss: 0.0570 - val_mean_squared_error: 0.0068\n",
      "Epoch 38/50\n",
      " - 21s - loss: 0.0580 - mean_squared_error: 0.0072 - val_loss: 0.0576 - val_mean_squared_error: 0.0068\n",
      "Epoch 39/50\n",
      " - 21s - loss: 0.0558 - mean_squared_error: 0.0068 - val_loss: 0.0586 - val_mean_squared_error: 0.0071\n",
      "Epoch 40/50\n",
      " - 22s - loss: 0.0561 - mean_squared_error: 0.0068 - val_loss: 0.0580 - val_mean_squared_error: 0.0069\n",
      "Epoch 41/50\n",
      " - 21s - loss: 0.0558 - mean_squared_error: 0.0067 - val_loss: 0.0573 - val_mean_squared_error: 0.0068\n",
      "Epoch 42/50\n",
      " - 21s - loss: 0.0553 - mean_squared_error: 0.0067 - val_loss: 0.0581 - val_mean_squared_error: 0.0069\n",
      "Epoch 43/50\n",
      " - 21s - loss: 0.0561 - mean_squared_error: 0.0069 - val_loss: 0.0581 - val_mean_squared_error: 0.0069\n",
      "Epoch 44/50\n",
      " - 21s - loss: 0.0561 - mean_squared_error: 0.0068 - val_loss: 0.0578 - val_mean_squared_error: 0.0068\n",
      "Epoch 45/50\n",
      " - 21s - loss: 0.0559 - mean_squared_error: 0.0068 - val_loss: 0.0577 - val_mean_squared_error: 0.0069\n",
      "Epoch 46/50\n",
      " - 21s - loss: 0.0565 - mean_squared_error: 0.0069 - val_loss: 0.0585 - val_mean_squared_error: 0.0070\n",
      "Epoch 47/50\n",
      " - 23s - loss: 0.0566 - mean_squared_error: 0.0069 - val_loss: 0.0579 - val_mean_squared_error: 0.0068\n",
      "Epoch 48/50\n",
      " - 23s - loss: 0.0575 - mean_squared_error: 0.0070 - val_loss: 0.0586 - val_mean_squared_error: 0.0069\n",
      "Epoch 49/50\n",
      " - 23s - loss: 0.0555 - mean_squared_error: 0.0067 - val_loss: 0.0583 - val_mean_squared_error: 0.0070\n",
      "Epoch 50/50\n",
      " - 23s - loss: 0.0573 - mean_squared_error: 0.0070 - val_loss: 0.0580 - val_mean_squared_error: 0.0069\n"
     ]
    }
   ],
   "source": [
    "# fit network\n",
    "history = model2.fit(xtrain, ytrain, \n",
    "                    epochs=50, \n",
    "                    batch_size=30,\n",
    "                    verbose=2,\n",
    "                    shuffle=False, \n",
    "                    validation_data=(xvalid, yvalid))"
   ]
  },
  {
   "cell_type": "code",
   "execution_count": 36,
   "metadata": {},
   "outputs": [
    {
     "data": {
      "image/png": "[encoded data removed]",
      "text/plain": [
       "<Figure size 792x288 with 1 Axes>"
      ]
     },
     "metadata": {},
     "output_type": "display_data"
    }
   ],
   "source": [
    "# plot history of loss for train and valid sets\n",
    "pyplot.plot(history.history['loss'], label='train')\n",
    "pyplot.plot(history.history['val_loss'], label='valid')\n",
    "pyplot.title('model train vs validation loss')\n",
    "pyplot.ylabel('loss')\n",
    "pyplot.xlabel('epoch')\n",
    "pyplot.legend()\n",
    "pyplot.show()"
   ]
  },
  {
   "cell_type": "markdown",
   "metadata": {},
   "source": [
    "Notes on experimenting with other models (model2 used for testing other models):\n",
    "02. Model with one GRU layer (like above) and an additional Fully Connected layer Dense(10); loss='mae'; optimizer='adam' -- loss is 0.0728\n",
    "\n",
    "03. Model with 4 GRU layers GRU(50, input_shape=(xtrain.shape[1], xtrain.shape[2]), return_sequences=True, activation='tanh'), and each GRU layer has one dropout layer Dropout(0.2); loss='mean_squared_error'; optimizer='sgd' -- loss is 0.0248\n",
    "\n",
    "04. Model with 4 LSTM layers LSTM(50, return_sequences=True, input_shape=(xtrain.shape[1], xtrain.shape[2])), and each LSTM layer has one dropout layer Dropout(0.2); loss='mean_squared_error'; optimizer='rmsprop' -- loss is 0.0167\n",
    "\n",
    "05. Model with 4 LSTM layers LSTM(50, return_sequences=True, input_shape=(xtrain.shape[1], xtrain.shape[2])), and the middle 2 LSTM layers each has one dropout layer Dropout(0.2); loss='mae'; optimizer='adam' -- loss is 0.0628\n",
    "\n",
    "06. Same as 4, but has 5 LSTM layers instead, and uses: loss='mae'; optimizer='adam'  -- loss is 0.0910\n",
    "\n",
    "07. Same as 6, but uses: loss='mean_squared_error'; optimizer='rmsprop' -- loss is 0.0177\n",
    "\n",
    "08. Same as 4, but has 3 LSTM layers instead, and uses: loss='mean_squared_error'; optimizer='rmsprop' -- loss is 0.0160\n",
    "\n",
    "09. Same as 4, but has 2 LSTM layers instead, and uses: loss='mae'; optimizer='adam' -- 0.0789\n",
    "\n",
    "10. First model using Validation set for validation_data within model.fit(). Same structured as 8, and uses: loss='mean_squared_error'; optimizer='adam', metrics='mae' -- loss for train set is 0.0062\n",
    "\n",
    "11. Same as original model with 1 LSTM layer, however this time uses MinMaxScaler instead of StandardScaler. Issue: couldn't apply inverse_transform the predictions\n",
    "\n",
    "12. Using stateful=True required batch_input_shape that is divisible by number of samples, which causes issue when trying to call predict(), as the number of test samples is 17447, which is only divisible by 73"
   ]
  },
  {
   "cell_type": "markdown",
   "metadata": {},
   "source": [
    "### Make predictions and Save to Kaggle submission file"
   ]
  },
  {
   "cell_type": "markdown",
   "metadata": {},
   "source": [
    "#### For Main Model"
   ]
  },
  {
   "cell_type": "code",
   "execution_count": 111,
   "metadata": {},
   "outputs": [],
   "source": [
    "# make predictions for model\n",
    "yhat = model.predict(xtest)"
   ]
  },
  {
   "cell_type": "markdown",
   "metadata": {},
   "source": [
    "#### For Other models"
   ]
  },
  {
   "cell_type": "code",
   "execution_count": 37,
   "metadata": {},
   "outputs": [],
   "source": [
    "# make predictions for model2\n",
    "yhat = model2.predict(xtest)"
   ]
  },
  {
   "cell_type": "markdown",
   "metadata": {},
   "source": [
    "#### Comment: \n",
    "Cannot call predict() because batch_size=54 is not divisible by number of samples in xtest. If change batch_size to a number divisible by xtest sample size (17447), dimensions won't match --- InvalidArgumentError: Incompatible shapes: [73,30] vs. [54,30]"
   ]
  },
  {
   "cell_type": "code",
   "execution_count": 38,
   "metadata": {},
   "outputs": [],
   "source": [
    "rescaled = yhat\n",
    "len_rescaled = len(rescaled)"
   ]
  },
  {
   "cell_type": "code",
   "execution_count": 39,
   "metadata": {},
   "outputs": [],
   "source": [
    "# IF normalization applied to target output, rescale predictions back to original scale\n",
    "mean=10.25075\n",
    "stdev=8.01432\n",
    "\n",
    "if ft_norm == 0:\n",
    "    for i in range(len_rescaled):\n",
    "        rescaled[i][0] = (rescaled[i][0]*(max_temp-min_temp))+min_temp\n",
    "if ft_norm == 1:\n",
    "    for i in range(len_rescaled):\n",
    "        rescaled[i][0] = (rescaled[i][0]*stdev)+mean"
   ]
  },
  {
   "cell_type": "code",
   "execution_count": 40,
   "metadata": {},
   "outputs": [],
   "source": [
    "# write predictions to CSV file\n",
    "\n",
    "import csv\n",
    "\n",
    "if ft_norm == 0:\n",
    "    with open(\"FinalProjectPreds.csv\", \"w\", newline='') as f: # newline='' is to remove new line after each row entry\n",
    "        writer = csv.writer(f)\n",
    "        writer.writerows(rescaled)\n",
    "if ft_norm == 1:\n",
    "    with open(\"FinalProjectPreds.csv\", \"w\", newline='') as f: # newline='' is to remove new line after each row entry\n",
    "        writer = csv.writer(f)\n",
    "        writer.writerows(rescaled)"
   ]
  },
  {
   "cell_type": "code",
   "execution_count": null,
   "metadata": {},
   "outputs": [],
   "source": []
  },
  {
   "cell_type": "code",
   "execution_count": null,
   "metadata": {},
   "outputs": [],
   "source": []
  },
  {
   "cell_type": "code",
   "execution_count": null,
   "metadata": {},
   "outputs": [],
   "source": []
  },
  {
   "cell_type": "code",
   "execution_count": null,
   "metadata": {},
   "outputs": [],
   "source": []
  },
  {
   "cell_type": "code",
   "execution_count": null,
   "metadata": {},
   "outputs": [],
   "source": []
  },
  {
   "cell_type": "code",
   "execution_count": null,
   "metadata": {},
   "outputs": [],
   "source": []
  },
  {
   "cell_type": "code",
   "execution_count": null,
   "metadata": {},
   "outputs": [],
   "source": []
  },
  {
   "cell_type": "code",
   "execution_count": null,
   "metadata": {},
   "outputs": [],
   "source": []
  },
  {
   "cell_type": "code",
   "execution_count": null,
   "metadata": {},
   "outputs": [],
   "source": []
  },
  {
   "cell_type": "code",
   "execution_count": null,
   "metadata": {},
   "outputs": [],
   "source": []
  },
  {
   "cell_type": "code",
   "execution_count": null,
   "metadata": {},
   "outputs": [],
   "source": []
  },
  {
   "cell_type": "code",
   "execution_count": null,
   "metadata": {},
   "outputs": [],
   "source": []
  },
  {
   "cell_type": "code",
   "execution_count": null,
   "metadata": {},
   "outputs": [],
   "source": []
  },
  {
   "cell_type": "code",
   "execution_count": null,
   "metadata": {},
   "outputs": [],
   "source": []
  },
  {
   "cell_type": "code",
   "execution_count": null,
   "metadata": {},
   "outputs": [],
   "source": []
  },
  {
   "cell_type": "code",
   "execution_count": null,
   "metadata": {},
   "outputs": [],
   "source": []
  },
  {
   "cell_type": "code",
   "execution_count": null,
   "metadata": {},
   "outputs": [],
   "source": []
  },
  {
   "cell_type": "code",
   "execution_count": null,
   "metadata": {},
   "outputs": [],
   "source": []
  },
  {
   "cell_type": "code",
   "execution_count": null,
   "metadata": {},
   "outputs": [],
   "source": []
  },
  {
   "cell_type": "code",
   "execution_count": null,
   "metadata": {},
   "outputs": [],
   "source": []
  },
  {
   "cell_type": "code",
   "execution_count": null,
   "metadata": {},
   "outputs": [],
   "source": []
  },
  {
   "cell_type": "code",
   "execution_count": null,
   "metadata": {},
   "outputs": [],
   "source": []
  },
  {
   "cell_type": "code",
   "execution_count": null,
   "metadata": {},
   "outputs": [],
   "source": []
  },
  {
   "cell_type": "code",
   "execution_count": null,
   "metadata": {},
   "outputs": [],
   "source": []
  },
  {
   "cell_type": "code",
   "execution_count": null,
   "metadata": {},
   "outputs": [],
   "source": []
  },
  {
   "cell_type": "code",
   "execution_count": null,
   "metadata": {},
   "outputs": [],
   "source": []
  },
  {
   "cell_type": "code",
   "execution_count": null,
   "metadata": {},
   "outputs": [],
   "source": []
  },
  {
   "cell_type": "code",
   "execution_count": null,
   "metadata": {},
   "outputs": [],
   "source": []
  },
  {
   "cell_type": "code",
   "execution_count": null,
   "metadata": {},
   "outputs": [],
   "source": []
  },
  {
   "cell_type": "code",
   "execution_count": null,
   "metadata": {},
   "outputs": [],
   "source": []
  },
  {
   "cell_type": "code",
   "execution_count": null,
   "metadata": {},
   "outputs": [],
   "source": []
  },
  {
   "cell_type": "code",
   "execution_count": null,
   "metadata": {},
   "outputs": [],
   "source": []
  },
  {
   "cell_type": "code",
   "execution_count": null,
   "metadata": {},
   "outputs": [],
   "source": []
  },
  {
   "cell_type": "code",
   "execution_count": null,
   "metadata": {},
   "outputs": [],
   "source": []
  },
  {
   "cell_type": "code",
   "execution_count": null,
   "metadata": {},
   "outputs": [],
   "source": []
  },
  {
   "cell_type": "code",
   "execution_count": null,
   "metadata": {},
   "outputs": [],
   "source": []
  },
  {
   "cell_type": "code",
   "execution_count": null,
   "metadata": {},
   "outputs": [],
   "source": []
  },
  {
   "cell_type": "code",
   "execution_count": null,
   "metadata": {},
   "outputs": [],
   "source": []
  },
  {
   "cell_type": "code",
   "execution_count": null,
   "metadata": {},
   "outputs": [],
   "source": []
  },
  {
   "cell_type": "code",
   "execution_count": null,
   "metadata": {},
   "outputs": [],
   "source": []
  },
  {
   "cell_type": "code",
   "execution_count": null,
   "metadata": {},
   "outputs": [],
   "source": []
  },
  {
   "cell_type": "code",
   "execution_count": null,
   "metadata": {},
   "outputs": [],
   "source": []
  },
  {
   "cell_type": "code",
   "execution_count": null,
   "metadata": {},
   "outputs": [],
   "source": []
  },
  {
   "cell_type": "code",
   "execution_count": null,
   "metadata": {},
   "outputs": [],
   "source": []
  },
  {
   "cell_type": "code",
   "execution_count": null,
   "metadata": {},
   "outputs": [],
   "source": []
  },
  {
   "cell_type": "code",
   "execution_count": null,
   "metadata": {},
   "outputs": [],
   "source": []
  },
  {
   "cell_type": "code",
   "execution_count": null,
   "metadata": {},
   "outputs": [],
   "source": []
  },
  {
   "cell_type": "code",
   "execution_count": null,
   "metadata": {},
   "outputs": [],
   "source": []
  },
  {
   "cell_type": "code",
   "execution_count": null,
   "metadata": {},
   "outputs": [],
   "source": []
  },
  {
   "cell_type": "code",
   "execution_count": null,
   "metadata": {},
   "outputs": [],
   "source": []
  },
  {
   "cell_type": "code",
   "execution_count": null,
   "metadata": {},
   "outputs": [],
   "source": []
  },
  {
   "cell_type": "code",
   "execution_count": null,
   "metadata": {},
   "outputs": [],
   "source": []
  },
  {
   "cell_type": "code",
   "execution_count": null,
   "metadata": {},
   "outputs": [],
   "source": []
  },
  {
   "cell_type": "code",
   "execution_count": null,
   "metadata": {},
   "outputs": [],
   "source": []
  },
  {
   "cell_type": "code",
   "execution_count": null,
   "metadata": {},
   "outputs": [],
   "source": []
  },
  {
   "cell_type": "code",
   "execution_count": null,
   "metadata": {},
   "outputs": [],
   "source": []
  },
  {
   "cell_type": "code",
   "execution_count": null,
   "metadata": {},
   "outputs": [],
   "source": []
  },
  {
   "cell_type": "code",
   "execution_count": null,
   "metadata": {},
   "outputs": [],
   "source": []
  },
  {
   "cell_type": "code",
   "execution_count": null,
   "metadata": {},
   "outputs": [],
   "source": []
  },
  {
   "cell_type": "code",
   "execution_count": null,
   "metadata": {},
   "outputs": [],
   "source": []
  },
  {
   "cell_type": "code",
   "execution_count": null,
   "metadata": {},
   "outputs": [],
   "source": []
  },
  {
   "cell_type": "code",
   "execution_count": null,
   "metadata": {},
   "outputs": [],
   "source": []
  },
  {
   "cell_type": "code",
   "execution_count": null,
   "metadata": {},
   "outputs": [],
   "source": []
  },
  {
   "cell_type": "code",
   "execution_count": null,
   "metadata": {},
   "outputs": [],
   "source": []
  },
  {
   "cell_type": "code",
   "execution_count": null,
   "metadata": {},
   "outputs": [],
   "source": []
  },
  {
   "cell_type": "code",
   "execution_count": null,
   "metadata": {},
   "outputs": [],
   "source": []
  },
  {
   "cell_type": "code",
   "execution_count": null,
   "metadata": {},
   "outputs": [],
   "source": []
  }
 ],
 "metadata": {
  "kernelspec": {
   "display_name": "Python 3",
   "language": "python",
   "name": "python3"
  },
  "language_info": {
   "codemirror_mode": {
    "name": "ipython",
    "version": 3
   },
   "file_extension": ".py",
   "mimetype": "text/x-python",
   "name": "python",
   "nbconvert_exporter": "python",
   "pygments_lexer": "ipython3",
   "version": "3.7.3"
  }
 },
 "nbformat": 4,
 "nbformat_minor": 2
}
